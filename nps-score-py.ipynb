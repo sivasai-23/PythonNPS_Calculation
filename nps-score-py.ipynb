{
 "cells": [
  {
   "cell_type": "code",
   "execution_count": 1,
   "id": "490b4f67",
   "metadata": {
    "_cell_guid": "b1076dfc-b9ad-4769-8c92-a6c4dae69d19",
    "_uuid": "8f2839f25d086af736a60e9eeb907d3b93b6e0e5",
    "execution": {
     "iopub.execute_input": "2024-01-18T13:32:56.991637Z",
     "iopub.status.busy": "2024-01-18T13:32:56.991231Z",
     "iopub.status.idle": "2024-01-18T13:32:57.003902Z",
     "shell.execute_reply": "2024-01-18T13:32:57.002792Z"
    },
    "papermill": {
     "duration": 0.023517,
     "end_time": "2024-01-18T13:32:57.006634",
     "exception": false,
     "start_time": "2024-01-18T13:32:56.983117",
     "status": "completed"
    },
    "tags": []
   },
   "outputs": [],
   "source": [
    "# This Python 3 environment comes with many helpful analytics libraries installed\n",
    "# It is defined by the kaggle/python Docker image: https://github.com/kaggle/docker-python\n",
    "# For example, here's several helpful packages to load\n",
    "\n",
    "\n",
    "\n",
    "import numpy as np # linear algebra\n",
    "\n",
    "#Import Numpy\n",
    "\n",
    "# For example, running this (by clicking run or pressing Shift+Enter) will list all files under the input directory\n",
    "\n"
   ]
  },
  {
   "cell_type": "code",
   "execution_count": 2,
   "id": "a74871ac",
   "metadata": {
    "execution": {
     "iopub.execute_input": "2024-01-18T13:32:57.020692Z",
     "iopub.status.busy": "2024-01-18T13:32:57.020292Z",
     "iopub.status.idle": "2024-01-18T13:32:57.037804Z",
     "shell.execute_reply": "2024-01-18T13:32:57.037018Z"
    },
    "papermill": {
     "duration": 0.026966,
     "end_time": "2024-01-18T13:32:57.039978",
     "exception": false,
     "start_time": "2024-01-18T13:32:57.013012",
     "status": "completed"
    },
    "tags": []
   },
   "outputs": [
    {
     "data": {
      "text/plain": [
       "array([ 7, 10,  5, ...,  5,  9, 10])"
      ]
     },
     "execution_count": 2,
     "metadata": {},
     "output_type": "execute_result"
    }
   ],
   "source": [
    "score = np.loadtxt('/survey-Data-User.txt', dtype = int)\n",
    "#Load Survey data and convert it into int data type and store it to variable 'score'\n",
    "score"
   ]
  },
  {
   "cell_type": "code",
   "execution_count": 3,
   "id": "af3a8a02",
   "metadata": {
    "execution": {
     "iopub.execute_input": "2024-01-18T13:32:57.054174Z",
     "iopub.status.busy": "2024-01-18T13:32:57.053407Z",
     "iopub.status.idle": "2024-01-18T13:32:57.060488Z",
     "shell.execute_reply": "2024-01-18T13:32:57.059467Z"
    },
    "papermill": {
     "duration": 0.016797,
     "end_time": "2024-01-18T13:32:57.062868",
     "exception": false,
     "start_time": "2024-01-18T13:32:57.046071",
     "status": "completed"
    },
    "tags": []
   },
   "outputs": [
    {
     "data": {
      "text/plain": [
       "1"
      ]
     },
     "execution_count": 3,
     "metadata": {},
     "output_type": "execute_result"
    }
   ],
   "source": [
    "score.ndim #it will provide the dimension of an array\n"
   ]
  },
  {
   "cell_type": "code",
   "execution_count": 4,
   "id": "b95c1fe1",
   "metadata": {
    "execution": {
     "iopub.execute_input": "2024-01-18T13:32:57.077128Z",
     "iopub.status.busy": "2024-01-18T13:32:57.076724Z",
     "iopub.status.idle": "2024-01-18T13:32:57.084089Z",
     "shell.execute_reply": "2024-01-18T13:32:57.082878Z"
    },
    "papermill": {
     "duration": 0.017166,
     "end_time": "2024-01-18T13:32:57.086376",
     "exception": false,
     "start_time": "2024-01-18T13:32:57.069210",
     "status": "completed"
    },
    "tags": []
   },
   "outputs": [
    {
     "data": {
      "text/plain": [
       "(1459,)"
      ]
     },
     "execution_count": 4,
     "metadata": {},
     "output_type": "execute_result"
    }
   ],
   "source": [
    "score.shape #It will return the no.of elements in the each dimension\n"
   ]
  },
  {
   "cell_type": "code",
   "execution_count": 5,
   "id": "720a718c",
   "metadata": {
    "execution": {
     "iopub.execute_input": "2024-01-18T13:32:57.101545Z",
     "iopub.status.busy": "2024-01-18T13:32:57.101121Z",
     "iopub.status.idle": "2024-01-18T13:32:57.108294Z",
     "shell.execute_reply": "2024-01-18T13:32:57.107282Z"
    },
    "papermill": {
     "duration": 0.017285,
     "end_time": "2024-01-18T13:32:57.110420",
     "exception": false,
     "start_time": "2024-01-18T13:32:57.093135",
     "status": "completed"
    },
    "tags": []
   },
   "outputs": [
    {
     "data": {
      "text/plain": [
       "dtype('int64')"
      ]
     },
     "execution_count": 5,
     "metadata": {},
     "output_type": "execute_result"
    }
   ],
   "source": [
    "score.dtype #Type of the data (integer, float, Python object, etc.)\n"
   ]
  },
  {
   "cell_type": "code",
   "execution_count": 6,
   "id": "72866947",
   "metadata": {
    "execution": {
     "iopub.execute_input": "2024-01-18T13:32:57.126249Z",
     "iopub.status.busy": "2024-01-18T13:32:57.125847Z",
     "iopub.status.idle": "2024-01-18T13:32:57.135618Z",
     "shell.execute_reply": "2024-01-18T13:32:57.134060Z"
    },
    "papermill": {
     "duration": 0.020721,
     "end_time": "2024-01-18T13:32:57.138014",
     "exception": false,
     "start_time": "2024-01-18T13:32:57.117293",
     "status": "completed"
    },
    "tags": []
   },
   "outputs": [
    {
     "data": {
      "text/plain": [
       "(1, 10, 7.29)"
      ]
     },
     "execution_count": 6,
     "metadata": {},
     "output_type": "execute_result"
    }
   ],
   "source": [
    "np.min(score), np.max(score), round(np.mean(score), 2) #Min, Max and Mean..etc\n"
   ]
  },
  {
   "cell_type": "code",
   "execution_count": 7,
   "id": "b62449f2",
   "metadata": {
    "execution": {
     "iopub.execute_input": "2024-01-18T13:32:57.154173Z",
     "iopub.status.busy": "2024-01-18T13:32:57.153774Z",
     "iopub.status.idle": "2024-01-18T13:32:57.158166Z",
     "shell.execute_reply": "2024-01-18T13:32:57.157140Z"
    },
    "papermill": {
     "duration": 0.015323,
     "end_time": "2024-01-18T13:32:57.160378",
     "exception": false,
     "start_time": "2024-01-18T13:32:57.145055",
     "status": "completed"
    },
    "tags": []
   },
   "outputs": [],
   "source": [
    "# nps = %promoters - %detractors\n",
    "#NPS Formula"
   ]
  },
  {
   "cell_type": "code",
   "execution_count": 8,
   "id": "4d590c99",
   "metadata": {
    "execution": {
     "iopub.execute_input": "2024-01-18T13:32:57.176004Z",
     "iopub.status.busy": "2024-01-18T13:32:57.175587Z",
     "iopub.status.idle": "2024-01-18T13:32:57.183353Z",
     "shell.execute_reply": "2024-01-18T13:32:57.182292Z"
    },
    "papermill": {
     "duration": 0.017945,
     "end_time": "2024-01-18T13:32:57.185548",
     "exception": false,
     "start_time": "2024-01-18T13:32:57.167603",
     "status": "completed"
    },
    "tags": []
   },
   "outputs": [
    {
     "data": {
      "text/plain": [
       "array([False, False,  True, ...,  True, False, False])"
      ]
     },
     "execution_count": 8,
     "metadata": {},
     "output_type": "execute_result"
    }
   ],
   "source": [
    "score <= 6 # detractors condition"
   ]
  },
  {
   "cell_type": "code",
   "execution_count": 9,
   "id": "fb93d4ba",
   "metadata": {
    "execution": {
     "iopub.execute_input": "2024-01-18T13:32:57.201331Z",
     "iopub.status.busy": "2024-01-18T13:32:57.200911Z",
     "iopub.status.idle": "2024-01-18T13:32:57.208010Z",
     "shell.execute_reply": "2024-01-18T13:32:57.207142Z"
    },
    "papermill": {
     "duration": 0.017467,
     "end_time": "2024-01-18T13:32:57.210089",
     "exception": false,
     "start_time": "2024-01-18T13:32:57.192622",
     "status": "completed"
    },
    "tags": []
   },
   "outputs": [
    {
     "data": {
      "text/plain": [
       "array([False,  True, False, ..., False,  True,  True])"
      ]
     },
     "execution_count": 9,
     "metadata": {},
     "output_type": "execute_result"
    }
   ],
   "source": [
    "score >= 9  #promoters condition"
   ]
  },
  {
   "cell_type": "code",
   "execution_count": 10,
   "id": "41402304",
   "metadata": {
    "execution": {
     "iopub.execute_input": "2024-01-18T13:32:57.226675Z",
     "iopub.status.busy": "2024-01-18T13:32:57.226169Z",
     "iopub.status.idle": "2024-01-18T13:32:57.231697Z",
     "shell.execute_reply": "2024-01-18T13:32:57.230725Z"
    },
    "papermill": {
     "duration": 0.016844,
     "end_time": "2024-01-18T13:32:57.233900",
     "exception": false,
     "start_time": "2024-01-18T13:32:57.217056",
     "status": "completed"
    },
    "tags": []
   },
   "outputs": [],
   "source": [
    "# Get Len of Promoters & Detracters\n",
    "nuof_promoters = len(score[score >= 9 ])\n",
    "nuof_detracters = len(score[score <= 6])"
   ]
  },
  {
   "cell_type": "code",
   "execution_count": 11,
   "id": "0f1f2fe1",
   "metadata": {
    "execution": {
     "iopub.execute_input": "2024-01-18T13:32:57.249858Z",
     "iopub.status.busy": "2024-01-18T13:32:57.249411Z",
     "iopub.status.idle": "2024-01-18T13:32:57.256084Z",
     "shell.execute_reply": "2024-01-18T13:32:57.254965Z"
    },
    "papermill": {
     "duration": 0.017544,
     "end_time": "2024-01-18T13:32:57.258535",
     "exception": false,
     "start_time": "2024-01-18T13:32:57.240991",
     "status": "completed"
    },
    "tags": []
   },
   "outputs": [
    {
     "data": {
      "text/plain": [
       "1459"
      ]
     },
     "execution_count": 11,
     "metadata": {},
     "output_type": "execute_result"
    }
   ],
   "source": [
    "total_responses = score.shape[0] # total number of responses\n",
    "total_responses"
   ]
  },
  {
   "cell_type": "code",
   "execution_count": 12,
   "id": "2f4fa0fd",
   "metadata": {
    "execution": {
     "iopub.execute_input": "2024-01-18T13:32:57.274988Z",
     "iopub.status.busy": "2024-01-18T13:32:57.274597Z",
     "iopub.status.idle": "2024-01-18T13:32:57.281394Z",
     "shell.execute_reply": "2024-01-18T13:32:57.280335Z"
    },
    "papermill": {
     "duration": 0.017843,
     "end_time": "2024-01-18T13:32:57.283606",
     "exception": false,
     "start_time": "2024-01-18T13:32:57.265763",
     "status": "completed"
    },
    "tags": []
   },
   "outputs": [
    {
     "data": {
      "text/plain": [
       "52.0904729266621"
      ]
     },
     "execution_count": 12,
     "metadata": {},
     "output_type": "execute_result"
    }
   ],
   "source": [
    "percof_promoters = (nuof_promoters/total_responses)*100\n",
    "percof_promoters #% Of Promoters"
   ]
  },
  {
   "cell_type": "code",
   "execution_count": 13,
   "id": "c3c7263d",
   "metadata": {
    "execution": {
     "iopub.execute_input": "2024-01-18T13:32:57.299964Z",
     "iopub.status.busy": "2024-01-18T13:32:57.299337Z",
     "iopub.status.idle": "2024-01-18T13:32:57.306159Z",
     "shell.execute_reply": "2024-01-18T13:32:57.305154Z"
    },
    "papermill": {
     "duration": 0.017511,
     "end_time": "2024-01-18T13:32:57.308352",
     "exception": false,
     "start_time": "2024-01-18T13:32:57.290841",
     "status": "completed"
    },
    "tags": []
   },
   "outputs": [
    {
     "data": {
      "text/plain": [
       "28.30705962988348"
      ]
     },
     "execution_count": 13,
     "metadata": {},
     "output_type": "execute_result"
    }
   ],
   "source": [
    "percof_detracters = (nuof_detracters/total_responses)*100\n",
    "percof_detracters #% Of Detracters"
   ]
  },
  {
   "cell_type": "code",
   "execution_count": 14,
   "id": "514754fa",
   "metadata": {
    "execution": {
     "iopub.execute_input": "2024-01-18T13:32:57.325119Z",
     "iopub.status.busy": "2024-01-18T13:32:57.324686Z",
     "iopub.status.idle": "2024-01-18T13:32:57.331134Z",
     "shell.execute_reply": "2024-01-18T13:32:57.330024Z"
    },
    "papermill": {
     "duration": 0.01797,
     "end_time": "2024-01-18T13:32:57.333691",
     "exception": false,
     "start_time": "2024-01-18T13:32:57.315721",
     "status": "completed"
    },
    "tags": []
   },
   "outputs": [
    {
     "data": {
      "text/plain": [
       "23.783413296778622"
      ]
     },
     "execution_count": 14,
     "metadata": {},
     "output_type": "execute_result"
    }
   ],
   "source": [
    "nps = percof_promoters - percof_detracters\n",
    "nps #NPS Score  - 23.783413296778622"
   ]
  },
  {
   "cell_type": "code",
   "execution_count": 15,
   "id": "f7277408",
   "metadata": {
    "execution": {
     "iopub.execute_input": "2024-01-18T13:32:57.351195Z",
     "iopub.status.busy": "2024-01-18T13:32:57.350793Z",
     "iopub.status.idle": "2024-01-18T13:32:57.358106Z",
     "shell.execute_reply": "2024-01-18T13:32:57.356934Z"
    },
    "papermill": {
     "duration": 0.019049,
     "end_time": "2024-01-18T13:32:57.360534",
     "exception": false,
     "start_time": "2024-01-18T13:32:57.341485",
     "status": "completed"
    },
    "tags": []
   },
   "outputs": [
    {
     "data": {
      "text/plain": [
       "23.78"
      ]
     },
     "execution_count": 15,
     "metadata": {},
     "output_type": "execute_result"
    }
   ],
   "source": [
    "round(nps, 2) #Round Fun()  - 23.78%"
   ]
  },
  {
   "cell_type": "code",
   "execution_count": 16,
   "id": "caebae5b",
   "metadata": {
    "execution": {
     "iopub.execute_input": "2024-01-18T13:32:57.378198Z",
     "iopub.status.busy": "2024-01-18T13:32:57.377782Z",
     "iopub.status.idle": "2024-01-18T13:32:57.382872Z",
     "shell.execute_reply": "2024-01-18T13:32:57.381679Z"
    },
    "papermill": {
     "duration": 0.016681,
     "end_time": "2024-01-18T13:32:57.385163",
     "exception": false,
     "start_time": "2024-01-18T13:32:57.368482",
     "status": "completed"
    },
    "tags": []
   },
   "outputs": [],
   "source": [
    "#I hope you find these resources helpful:)"
   ]
  }
 ],
 "metadata": {
  "kaggle": {
   "accelerator": "none",
   "dataSources": [
    {
     "datasetId": 4213116,
     "sourceId": 7427987,
     "sourceType": "datasetVersion"
    }
   ],
   "dockerImageVersionId": 30635,
   "isGpuEnabled": false,
   "isInternetEnabled": true,
   "language": "python",
   "sourceType": "notebook"
  },
  "kernelspec": {
   "display_name": "Python 3",
   "language": "python",
   "name": "python3"
  },
  "language_info": {
   "codemirror_mode": {
    "name": "ipython",
    "version": 3
   },
   "file_extension": ".py",
   "mimetype": "text/x-python",
   "name": "python",
   "nbconvert_exporter": "python",
   "pygments_lexer": "ipython3",
   "version": "3.10.12"
  },
  "papermill": {
   "default_parameters": {},
   "duration": 4.27161,
   "end_time": "2024-01-18T13:32:57.813405",
   "environment_variables": {},
   "exception": null,
   "input_path": "__notebook__.ipynb",
   "output_path": "__notebook__.ipynb",
   "parameters": {},
   "start_time": "2024-01-18T13:32:53.541795",
   "version": "2.4.0"
  }
 },
 "nbformat": 4,
 "nbformat_minor": 5
}
